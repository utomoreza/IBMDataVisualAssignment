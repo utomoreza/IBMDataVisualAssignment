{
 "cells": [
  {
   "cell_type": "code",
   "execution_count": null,
   "metadata": {},
   "outputs": [],
   "source": [
    "import pandas as pd\n",
    "import numpy as np\n",
    "import matplotlib.pyplot as plt\n",
    "import folium"
   ]
  },
  {
   "cell_type": "code",
   "execution_count": null,
   "metadata": {},
   "outputs": [],
   "source": [
    "df = pd.read_csv('https://cocl.us/datascience_survey_data', index_col=0)\n",
    "df"
   ]
  },
  {
   "cell_type": "markdown",
   "metadata": {},
   "source": [
    "# 2nd Question"
   ]
  },
  {
   "cell_type": "code",
   "execution_count": null,
   "metadata": {},
   "outputs": [],
   "source": [
    "total_respondents = 2233 "
   ]
  },
  {
   "cell_type": "code",
   "execution_count": null,
   "metadata": {},
   "outputs": [],
   "source": [
    "VeryInterestedPercent = list(map(lambda x: round(x/total_respondents*100, 2), df['Very interested']))\n",
    "SomewhatInterestedPercent = list(map(lambda x: round(x/total_respondents*100, 2), df['Somewhat interested']))\n",
    "NotInterestedPercent = list(map(lambda x: round(x/total_respondents*100, 2), df['Not interested']))"
   ]
  },
  {
   "cell_type": "code",
   "execution_count": null,
   "metadata": {},
   "outputs": [],
   "source": [
    "df_percent = pd.DataFrame([VeryInterestedPercent,SomewhatInterestedPercent,NotInterestedPercent]).transpose()\n",
    "df_percent.set_index([df.index], inplace=True)\n",
    "df_percent.columns = df.columns\n",
    "df_percent"
   ]
  },
  {
   "cell_type": "code",
   "execution_count": null,
   "metadata": {},
   "outputs": [],
   "source": [
    "barColors = ['#5cb85c', '#5bc0de', '#d9534f']\n",
    "\n",
    "df_bar = df_percent.sort_values('Very interested', ascending=False)\n",
    "ax = df_bar.plot.bar(figsize=(20,8),\n",
    "                    width=0.8,\n",
    "                    color=barColors)\n",
    "ax.set_title(\"Percentage of Respondents' Interest in Data Science Areas\", fontsize=16)\n",
    "ax.set_xlabel('', fontsize=14)\n",
    "ax.set_yticklabels('')\n",
    "ax.legend(loc='upper right', fontsize=14)\n",
    "\n",
    "for spine in plt.gca().spines.values():\n",
    "    spine.set_visible(False)\n",
    "\n",
    "for i in range(df_bar.shape[0]): \n",
    "    label1 = df_bar.iloc[i,0]\n",
    "    label2 = df_bar.iloc[i,1]    \n",
    "    label3 = df_bar.iloc[i,2]\n",
    "\n",
    "    plt.annotate(str(label1), xy=(i-0.35, label1+1), color='black', fontsize=12)#, bbox=dict(boxstyle='square, pad=0.6', fc='gray', alpha=0.6))\n",
    "    plt.annotate(str(label2), xy=(i-0.09, label2+1), color='black', fontsize=12)#, bbox=dict(boxstyle='square, pad=0.6', fc='gray', alpha=0.6))\n",
    "    plt.annotate(str(label3), xy=(i+0.17, label3+1), color='black', fontsize=12)#, bbox=dict(boxstyle='square, pad=0.6', fc='gray', alpha=0.6))\n",
    "\n",
    "plt.show()"
   ]
  },
  {
   "cell_type": "markdown",
   "metadata": {},
   "source": [
    "# 3rd Question"
   ]
  },
  {
   "cell_type": "code",
   "execution_count": null,
   "metadata": {},
   "outputs": [],
   "source": [
    "df3 = pd.read_csv('https://cocl.us/sanfran_crime_dataset')\n",
    "df3"
   ]
  },
  {
   "cell_type": "code",
   "execution_count": null,
   "metadata": {},
   "outputs": [],
   "source": [
    "df3['Count'] = [1 for i in range(df3.shape[0])]\n",
    "df3_grouped = df3.groupby('PdDistrict').count()\n",
    "df3_grouped"
   ]
  },
  {
   "cell_type": "code",
   "execution_count": null,
   "metadata": {},
   "outputs": [],
   "source": [
    "df3_neighborCount = df3_grouped[['Count']]\n",
    "df3_neighborCount.index.name = 'Neighborhood'\n",
    "df3_neighborCount.reset_index(inplace=True)\n",
    "# df3_neighborCount.sort_values('Count', ascending=False, inplace=True)\n",
    "df3_neighborCount"
   ]
  },
  {
   "cell_type": "markdown",
   "metadata": {},
   "source": [
    "# Question #4"
   ]
  },
  {
   "cell_type": "code",
   "execution_count": null,
   "metadata": {},
   "outputs": [],
   "source": [
    "# !wget --quiet https://cocl.us/sanfran_geojson -O sanfran_geojson.json\n",
    "    \n",
    "print('GeoJSON file downloaded!')"
   ]
  },
  {
   "cell_type": "code",
   "execution_count": null,
   "metadata": {},
   "outputs": [],
   "source": [
    "geojson_sanfran = r'sanfran_geojson.json' # geojson file\n",
    "\n",
    "# San Francisco latitude and longitude values\n",
    "latitude = 37.77\n",
    "longitude = -122.42"
   ]
  },
  {
   "cell_type": "code",
   "execution_count": null,
   "metadata": {},
   "outputs": [],
   "source": [
    "# create a plain San Francisco map\n",
    "sanfran_map = folium.Map(location=[latitude, longitude], zoom_start=12)\n",
    "\n",
    "# generate choropleth map using the crime dataset\n",
    "sanfran_map.choropleth(\n",
    "    geo_data=geojson_sanfran,\n",
    "    data=df3_neighborCount,\n",
    "    columns=['Neighborhood', 'Count'],\n",
    "    key_on='feature.properties.DISTRICT',\n",
    "    fill_color='YlOrRd', \n",
    "    fill_opacity=0.7, \n",
    "    line_opacity=0.2,\n",
    "    legend_name='Crime Rate in San Franscisco'\n",
    ")\n",
    "\n",
    "# display map\n",
    "sanfran_map"
   ]
  },
  {
   "cell_type": "code",
   "execution_count": null,
   "metadata": {},
   "outputs": [],
   "source": []
  },
  {
   "cell_type": "code",
   "execution_count": null,
   "metadata": {},
   "outputs": [],
   "source": []
  }
 ],
 "metadata": {
  "kernelspec": {
   "display_name": "Python 3",
   "language": "python",
   "name": "python3"
  },
  "language_info": {
   "codemirror_mode": {
    "name": "ipython",
    "version": 3
   },
   "file_extension": ".py",
   "mimetype": "text/x-python",
   "name": "python",
   "nbconvert_exporter": "python",
   "pygments_lexer": "ipython3",
   "version": "3.6.5"
  }
 },
 "nbformat": 4,
 "nbformat_minor": 4
}
